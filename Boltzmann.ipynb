{
 "cells": [
  {
   "cell_type": "code",
   "execution_count": 1,
   "metadata": {
    "collapsed": true
   },
   "outputs": [],
   "source": [
    "import random\n",
    "import numpy as np\n",
    "\n",
    "import scipy.stats as st\n",
    "import matplotlib.pyplot as plt\n",
    "import scipy.special as sp\n",
    "import scipy.integrate as integrate\n",
    "%precision 12\n",
    "from __future__ import division\n",
    "\n",
    "%matplotlib inline\n",
    "plt.style.use('ggplot')"
   ]
  },
  {
   "cell_type": "code",
   "execution_count": 126,
   "metadata": {},
   "outputs": [],
   "source": []
  },
  {
   "cell_type": "code",
   "execution_count": 36,
   "metadata": {},
   "outputs": [],
   "source": [
    "def generator(N):\n",
    "    X = np.zeros((N, 19))\n",
    "    for j in range(N):\n",
    "        firstline = np.random.randint(0,2,8)\n",
    "        secline = np.zeros(8)\n",
    "        translation = np.random.randint(0,3)\n",
    "        thirdline = np.zeros(3)\n",
    "        if translation == 0: # left\n",
    "            for i in range(8):\n",
    "                secline[i] = firstline[(i+1)%8]\n",
    "                thirdline[0] = 1\n",
    "        elif translation == 1: # stay\n",
    "            for i in range(8):\n",
    "                secline[i] = firstline[i]\n",
    "                thirdline[1] = 1\n",
    "        else :\n",
    "            for i in range(8): # right \n",
    "                secline[i] = firstline[(i-1)%8]\n",
    "                thirdline[2] = 1\n",
    "        X[j] = np.concatenate((firstline,secline,thirdline))\n",
    "    X=(X-0.5)*2\n",
    "    return X"
   ]
  },
  {
   "cell_type": "code",
   "execution_count": 217,
   "metadata": {},
   "outputs": [
    {
     "data": {
      "image/png": "[encoded data removed]",
      "text/plain": [
       "<matplotlib.figure.Figure at 0x107522d90>"
      ]
     },
     "metadata": {},
     "output_type": "display_data"
    }
   ],
   "source": [
    "def display(X):\n",
    "    plt.imshow(X[:16].reshape((2,8)))\n",
    "\n",
    "\n",
    "N = 10000\n",
    "XX2 = generator (N)\n",
    "    \n",
    "wake = np.zeros((19,19))\n",
    "v = np.zeros((19,19,19))\n",
    "for i in range(19):\n",
    "    for j in range(19):\n",
    "        for k in range(N):\n",
    "            wake[i,j] += XX2[k][i]*XX2[k][j]\n",
    "            for l in range(19):\n",
    "                v[i,j,l] += 1/2*XX2[k][i]*XX2[k][j]*XX2[k][l]\n",
    "                \n",
    "\n",
    "fig = plt.figure(figsize=(4,15))\n",
    "for j in range(5):\n",
    "    ax = fig.add_subplot(10, 1, j+1)\n",
    "    display(XX2[j])"
   ]
  },
  {
   "cell_type": "code",
   "execution_count": 210,
   "metadata": {},
   "outputs": [
    {
     "data": {
      "image/png": "[encoded data removed]",
      "text/plain": [
       "<matplotlib.figure.Figure at 0x1074efa10>"
      ]
     },
     "metadata": {},
     "output_type": "display_data"
    }
   ],
   "source": [
    "testX = generator(1)[0]\n",
    "testX[16:] = 1\n",
    "display(testX)"
   ]
  },
  {
   "cell_type": "code",
   "execution_count": 178,
   "metadata": {},
   "outputs": [
    {
     "data": {
      "image/png": "[encoded data removed]",
      "text/plain": [
       "<matplotlib.figure.Figure at 0x107ee4450>"
      ]
     },
     "metadata": {},
     "output_type": "display_data"
    }
   ],
   "source": [
    "N = 2000\n",
    "XX2 = generator (N)\n",
    "    \n",
    "wake = np.zeros((19,19))\n",
    "v = np.zeros((19,19,19))\n",
    "for i in range(19):\n",
    "    for j in range(19):\n",
    "        for k in range(N):\n",
    "            wake[i,j] += XX2[k][i]*XX2[k][j]\n",
    "            for l in range(19):\n",
    "                v[i,j,l] += 1/2*XX2[k][i]*XX2[k][j]*XX2[k][l]\n",
    "                \n",
    "\n"
   ]
  },
  {
   "cell_type": "code",
   "execution_count": 358,
   "metadata": {
    "collapsed": true
   },
   "outputs": [],
   "source": [
    "def display(X):\n",
    "    plt.imshow(X[:16].reshape((2,8)))"
   ]
  },
  {
   "cell_type": "code",
   "execution_count": 357,
   "metadata": {},
   "outputs": [
    {
     "data": {
      "image/png": "[encoded data removed]",
      "text/plain": [
       "<matplotlib.figure.Figure at 0x107db8e50>"
      ]
     },
     "metadata": {},
     "output_type": "display_data"
    }
   ],
   "source": [
    "XX2 = generator(5)\n",
    "fig = plt.figure(figsize=(4,8))\n",
    "for j in range(5):\n",
    "    ax = fig.add_subplot(5, 1, j+1)\n",
    "    display(XX2[j])"
   ]
  },
  {
   "cell_type": "code",
   "execution_count": 180,
   "metadata": {},
   "outputs": [
    {
     "data": {
      "image/png": "[encoded data removed]",
      "text/plain": [
       "<matplotlib.figure.Figure at 0x107e10250>"
      ]
     },
     "metadata": {},
     "output_type": "display_data"
    }
   ],
   "source": [
    "testX = generator(1)[0]\n",
    "testX[16:] = 1\n",
    "display(testX)"
   ]
  },
  {
   "cell_type": "code",
   "execution_count": null,
   "metadata": {
    "collapsed": true
   },
   "outputs": [],
   "source": []
  },
  {
   "cell_type": "code",
   "execution_count": null,
   "metadata": {
    "collapsed": true
   },
   "outputs": [],
   "source": []
  },
  {
   "cell_type": "code",
   "execution_count": null,
   "metadata": {
    "collapsed": true
   },
   "outputs": [],
   "source": []
  },
  {
   "cell_type": "code",
   "execution_count": null,
   "metadata": {
    "collapsed": true
   },
   "outputs": [],
   "source": []
  },
  {
   "cell_type": "code",
   "execution_count": null,
   "metadata": {
    "collapsed": true
   },
   "outputs": [],
   "source": []
  },
  {
   "cell_type": "code",
   "execution_count": 335,
   "metadata": {},
   "outputs": [
    {
     "name": "stderr",
     "output_type": "stream",
     "text": [
      "/usr/local/lib/python2.7/site-packages/ipykernel_launcher.py:22: RuntimeWarning: overflow encountered in exp\n"
     ]
    }
   ],
   "source": [
    "XX2 = generator(N)\n",
    "N = 10000\n",
    "T = 1\n",
    "eta1 = 0.1\n",
    "eta2 = 0.1\n",
    "def Temp(T, N, n):\n",
    "    if n < N/2:\n",
    "        return 2*T/N*(N/2-n)+0.01\n",
    "    else :\n",
    "        return 0.001\n",
    "\n",
    "wake = np.zeros((19,19))\n",
    "v = np.zeros((19,19,19))\n",
    "for k in range(N):\n",
    "    for i in range(19):\n",
    "        for j in range(19):\n",
    "        \n",
    "            wake[i,j] += eta1*XX2[k][i]*XX2[k][j]/Temp(T,N,k)\n",
    "            for l in range(19):\n",
    "                v[i,j,l] += eta2/2*XX2[k][i]*XX2[k][j]*XX2[k][l]/Temp(T,N,k)\n",
    "            a = np.dot(wake,XX2[k])+1/2*np.dot(np.dot(v,XX2[k]),XX2[k])\n",
    "            if random.random() < 1/(1+np.exp(a[j])):\n",
    "                XX2[k][j] = 1\n",
    "            else :\n",
    "                XX2[k][j]= -1             \n",
    "\n"
   ]
  },
  {
   "cell_type": "code",
   "execution_count": 343,
   "metadata": {},
   "outputs": [
    {
     "data": {
      "image/png": "[encoded data removed]",
      "text/plain": [
       "<matplotlib.figure.Figure at 0x107b71150>"
      ]
     },
     "metadata": {},
     "output_type": "display_data"
    }
   ],
   "source": [
    "testX = generator(1)[0]\n",
    "testX[16:] = 1\n",
    "display(testX)"
   ]
  },
  {
   "cell_type": "code",
   "execution_count": 348,
   "metadata": {},
   "outputs": [
    {
     "name": "stderr",
     "output_type": "stream",
     "text": [
      "/usr/local/lib/python2.7/site-packages/ipykernel_launcher.py:7: RuntimeWarning: overflow encountered in exp\n",
      "  import sys\n"
     ]
    },
    {
     "data": {
      "image/png": "[encoded data removed]",
      "text/plain": [
       "<matplotlib.figure.Figure at 0x10809a2d0>"
      ]
     },
     "metadata": {},
     "output_type": "display_data"
    }
   ],
   "source": [
    "turn = 0\n",
    "turns = 100\n",
    "\n",
    "for j in range(turns):\n",
    "    for i in range(19):\n",
    "        a = np.dot(wake,testX)+1/2*np.dot(np.dot(v,testX),testX)\n",
    "        if random.random() < 1/(1+np.exp(-a[i])):\n",
    "            testX[i] = 1\n",
    "        else :\n",
    "            testX[i]=-1\n",
    "\n",
    "display(testX)"
   ]
  },
  {
   "cell_type": "code",
   "execution_count": 89,
   "metadata": {},
   "outputs": [
    {
     "data": {
      "text/plain": [
       "array([-1., -1.,  1.])"
      ]
     },
     "execution_count": 89,
     "metadata": {},
     "output_type": "execute_result"
    }
   ],
   "source": [
    "testX[16:]"
   ]
  },
  {
   "cell_type": "code",
   "execution_count": 360,
   "metadata": {},
   "outputs": [
    {
     "data": {
      "text/plain": [
       "array([ 1., -1., -1.])"
      ]
     },
     "execution_count": 360,
     "metadata": {},
     "output_type": "execute_result"
    }
   ],
   "source": [
    "testX[16:]"
   ]
  },
  {
   "cell_type": "code",
   "execution_count": null,
   "metadata": {
    "collapsed": true
   },
   "outputs": [],
   "source": []
  },
  {
   "cell_type": "code",
   "execution_count": 167,
   "metadata": {},
   "outputs": [
    {
     "name": "stderr",
     "output_type": "stream",
     "text": [
      "/usr/local/lib/python2.7/site-packages/ipykernel_launcher.py:10: RuntimeWarning: overflow encountered in exp\n",
      "  # Remove the CWD from sys.path while we load stuff.\n"
     ]
    }
   ],
   "source": [
    "S = 1000\n",
    "test = generator(S)\n",
    "result = test[:,16:]\n",
    "\n",
    "test[:,16:] = 1\n",
    "\n",
    "for t in range(T):\n",
    "    for i in range(19):\n",
    "        a = np.dot(wake,test[t])+1/2*np.dot(np.dot(v,test[t]),test[t])\n",
    "        if random.random() < 1/(1+np.exp(-2*a[i])):\n",
    "            test[t][i] = 1\n",
    "        else :\n",
    "            test[t][i]=-1"
   ]
  },
  {
   "cell_type": "code",
   "execution_count": 168,
   "metadata": {},
   "outputs": [
    {
     "data": {
      "text/plain": [
       "array([1000, 1000, 1000])"
      ]
     },
     "execution_count": 168,
     "metadata": {},
     "output_type": "execute_result"
    }
   ],
   "source": [
    "sum(result == test[:,16:])"
   ]
  },
  {
   "cell_type": "code",
   "execution_count": 364,
   "metadata": {},
   "outputs": [
    {
     "data": {
      "image/png": "[encoded data removed]",
      "text/plain": [
       "<matplotlib.figure.Figure at 0x1081df490>"
      ]
     },
     "metadata": {},
     "output_type": "display_data"
    }
   ],
   "source": [
    "N=4\n",
    "XX2 = generator (4)\n",
    "    \n",
    "wake = np.zeros((19,19))\n",
    "v = np.zeros((19,19,19))\n",
    "for i in range(19):\n",
    "    for j in range(19):\n",
    "        for k in range(N):\n",
    "            wake[i,j] += XX2[k][i]*XX2[k][j]\n",
    "            for l in range(19):\n",
    "                v[i,j,l] += 1/2*XX2[k][i]*XX2[k][j]*XX2[k][l]\n",
    "                \n",
    "\n"
   ]
  },
  {
   "cell_type": "code",
   "execution_count": 373,
   "metadata": {},
   "outputs": [
    {
     "data": {
      "text/plain": [
       "(4, 19)"
      ]
     },
     "execution_count": 373,
     "metadata": {},
     "output_type": "execute_result"
    }
   ],
   "source": [
    "XX2.shape"
   ]
  },
  {
   "cell_type": "code",
   "execution_count": 375,
   "metadata": {},
   "outputs": [
    {
     "data": {
      "image/png": "[encoded data removed]",
      "text/plain": [
       "<matplotlib.figure.Figure at 0x107e8f890>"
      ]
     },
     "metadata": {},
     "output_type": "display_data"
    }
   ],
   "source": [
    "XX2= np.array([[ -1.,  1., -1.,  -1., 1.,  1., -1.,  -1.,  -1., -1.,  1., -1.,  -1.,\n",
    "        1.,  1.,  -1.,  1., -1., -1.],\n",
    "       [-1.,  1.,  -1., 1., -1., -1., -1., 1.,  1.,  -1., 1., -1., -1.,\n",
    "        -1., 1., -1.,  -1., -1., 1.],\n",
    "       [1., -1.,  -1.,  -1., 1., 1., 1., -1., 1., -1.,  -1.,  -1., 1.,\n",
    "        1., 1., -1., -1.,  1., -1.],\n",
    "       [-1.,  1.,  -1., 1.,  1., 1.,  -1., 1.,  1.,  -1., 1.,  -1., 1.,\n",
    "         1., 1., -1.,  1., -1., -1.]])\n",
    "fig = plt.figure(figsize=(4,9))\n",
    "for j in range(4):\n",
    "    ax = fig.add_subplot(4, 1, j+1)\n",
    "    display(XX2[j])"
   ]
  },
  {
   "cell_type": "code",
   "execution_count": null,
   "metadata": {
    "collapsed": true
   },
   "outputs": [],
   "source": []
  }
 ],
 "metadata": {
  "kernelspec": {
   "display_name": "Python 2",
   "language": "python",
   "name": "python2"
  },
  "language_info": {
   "codemirror_mode": {
    "name": "ipython",
    "version": 2
   },
   "file_extension": ".py",
   "mimetype": "text/x-python",
   "name": "python",
   "nbconvert_exporter": "python",
   "pygments_lexer": "ipython2",
   "version": "2.7.13"
  }
 },
 "nbformat": 4,
 "nbformat_minor": 2
}
