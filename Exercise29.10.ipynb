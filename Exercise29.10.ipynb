{
 "cells": [
  {
   "cell_type": "code",
   "execution_count": 1,
   "metadata": {
    "collapsed": true
   },
   "outputs": [],
   "source": [
    "import numpy as np\n",
    "import matplotlib.pyplot as plt\n",
    "import random\n",
    "import timeit"
   ]
  },
  {
   "cell_type": "code",
   "execution_count": 2,
   "metadata": {
    "collapsed": true
   },
   "outputs": [],
   "source": [
    "# probability density\n",
    "\n",
    "def Prob(x):\n",
    "    if x < 0:\n",
    "        return 0\n",
    "    elif x < 1:\n",
    "        return 10\n",
    "    elif x <11 :\n",
    "        return 1\n",
    "    else :\n",
    "        return 0"
   ]
  },
  {
   "cell_type": "code",
   "execution_count": 3,
   "metadata": {},
   "outputs": [
    {
     "data": {
      "image/png": "[encoded data removed]",
      "text/plain": [
       "<matplotlib.figure.Figure at 0x104e63390>"
      ]
     },
     "metadata": {},
     "output_type": "display_data"
    }
   ],
   "source": [
    "# probability density plot \n",
    "\n",
    "x = np.arange(-2.0, 13.0, 0.1)\n",
    "P=[Prob(t) for t in x]\n",
    "y = np.array(P)\n",
    "plt.plot(x, y)\n",
    "plt.show()"
   ]
  },
  {
   "cell_type": "code",
   "execution_count": 4,
   "metadata": {
    "collapsed": true
   },
   "outputs": [],
   "source": [
    "# initially start between 0 and 1 (peak)\n",
    "x0 = random.random()\n",
    "\n",
    "# decide the size of the step. Not too small, not too big. \n",
    "w = 0.5"
   ]
  },
  {
   "cell_type": "code",
   "execution_count": 5,
   "metadata": {
    "collapsed": true
   },
   "outputs": [],
   "source": [
    "r = random.random()\n",
    "u = Prob(x0)*random.random()\n",
    "\n",
    "xl = x0 - r * w\n",
    "\n",
    "while Prob(xl) > u:\n",
    "    xl = xl - w\n",
    "\n",
    "    \n",
    "xr = x0 + (1-r)*w\n",
    "\n",
    "while Prob(xr) > u:\n",
    "    xr = xr + w"
   ]
  },
  {
   "cell_type": "code",
   "execution_count": 6,
   "metadata": {},
   "outputs": [
    {
     "data": {
      "text/plain": [
       "(-0.28670603780003123, 1.2132939621999688)"
      ]
     },
     "execution_count": 6,
     "metadata": {},
     "output_type": "execute_result"
    }
   ],
   "source": [
    "xl, xr"
   ]
  },
  {
   "cell_type": "code",
   "execution_count": 7,
   "metadata": {
    "collapsed": true
   },
   "outputs": [],
   "source": [
    "# next x between xl and xr\n",
    "x1= random.uniform(xl,xr)"
   ]
  },
  {
   "cell_type": "code",
   "execution_count": 8,
   "metadata": {},
   "outputs": [
    {
     "data": {
      "text/plain": [
       "0"
      ]
     },
     "execution_count": 8,
     "metadata": {},
     "output_type": "execute_result"
    }
   ],
   "source": [
    "Prob(x1)"
   ]
  },
  {
   "cell_type": "code",
   "execution_count": 9,
   "metadata": {},
   "outputs": [
    {
     "data": {
      "text/plain": [
       "9.333025369265403"
      ]
     },
     "execution_count": 9,
     "metadata": {},
     "output_type": "execute_result"
    }
   ],
   "source": [
    "u"
   ]
  },
  {
   "cell_type": "code",
   "execution_count": 10,
   "metadata": {
    "collapsed": true
   },
   "outputs": [],
   "source": [
    "# initially start between 0 and 1 (peak)\n",
    "\n",
    "x0 = random.random()\n",
    "\n",
    "# decide the size of the step. Not too small, not too big. \n",
    "w = 0.5\n",
    "\n",
    "u = Prob(x0)*random.random()\n",
    "\n",
    "cond = True\n",
    "r = random.random()\n",
    "xl = x0-r*w\n",
    "xr = x0 + (1-r)*w\n",
    "\n",
    "while cond: \n",
    "    while Prob(xl) > u:\n",
    "        xl = xl - w\n",
    "        \n",
    "    while Prob(xr) > u:\n",
    "        xr = xr + w\n",
    "        \n",
    "    x1= random.uniform(xl,xr)\n",
    "        \n",
    "    if Prob(x1) > u :\n",
    "        cond = False\n",
    "    else :\n",
    "        if x1>x0:\n",
    "            xr = x1\n",
    "        else:\n",
    "            xl=x1\n",
    "    "
   ]
  },
  {
   "cell_type": "code",
   "execution_count": 11,
   "metadata": {
    "collapsed": true
   },
   "outputs": [],
   "source": [
    "def process(x0, w):\n",
    "\n",
    "\n",
    "    # decide the size of the step. Not too small, not too big. \n",
    "    w = 0.5\n",
    "\n",
    "    u = Prob(x0)*random.random()\n",
    "\n",
    "    cond = True\n",
    "    r = random.random()\n",
    "    xl = x0-r*w\n",
    "    xr = x0 + (1-r)*w\n",
    "\n",
    "    while cond: \n",
    "        while Prob(xl) > u:\n",
    "            xl = xl - w\n",
    "        \n",
    "        while Prob(xr) > u:\n",
    "            xr = xr + w\n",
    "        \n",
    "        x1= random.uniform(xl,xr)\n",
    "        \n",
    "        if Prob(x1) > u :\n",
    "            cond = False\n",
    "        else :\n",
    "            if x1>x0:\n",
    "                xr = x1\n",
    "            else:\n",
    "                xl=x1\n",
    "    return x1\n",
    "    "
   ]
  },
  {
   "cell_type": "code",
   "execution_count": 12,
   "metadata": {},
   "outputs": [
    {
     "data": {
      "text/plain": [
       "0.02932225628335429"
      ]
     },
     "execution_count": 12,
     "metadata": {},
     "output_type": "execute_result"
    }
   ],
   "source": [
    "process(0.5, 0.5)"
   ]
  },
  {
   "cell_type": "code",
   "execution_count": 44,
   "metadata": {},
   "outputs": [
    {
     "name": "stdout",
     "output_type": "stream",
     "text": [
      "7 6.72393443112\n"
     ]
    }
   ],
   "source": [
    "\n",
    "\n",
    "# initially start between 0 and 1 (peak)\n",
    "\n",
    "x0 = 0.5\n",
    "\n",
    "turn = 0 \n",
    "while x0 < 1:\n",
    "    turn = turn + 1\n",
    "    x0 = process(x0, 0.5)\n",
    "    \n",
    "print turn, x0"
   ]
  },
  {
   "cell_type": "code",
   "execution_count": 45,
   "metadata": {
    "collapsed": true
   },
   "outputs": [],
   "source": [
    "def numofturns(x0, w):\n",
    "    turn = 0 \n",
    "    while x0 < 1:\n",
    "        turn = turn + 1\n",
    "        x0 = process(x0, 0.5)\n",
    "    \n",
    "    return turn\n",
    "    "
   ]
  },
  {
   "cell_type": "code",
   "execution_count": 46,
   "metadata": {
    "collapsed": true
   },
   "outputs": [],
   "source": [
    "list =[]\n",
    "for i in range(10000):\n",
    "    list = list+ [numofturns(random.random(),0.5)]\n"
   ]
  },
  {
   "cell_type": "code",
   "execution_count": 47,
   "metadata": {},
   "outputs": [
    {
     "data": {
      "image/png": "[encoded data removed]",
      "text/plain": [
       "<matplotlib.figure.Figure at 0x1057df3d0>"
      ]
     },
     "metadata": {},
     "output_type": "display_data"
    }
   ],
   "source": [
    "plt.plot(list)\n",
    "plt.show()"
   ]
  },
  {
   "cell_type": "code",
   "execution_count": 48,
   "metadata": {
    "scrolled": true
   },
   "outputs": [
    {
     "data": {
      "text/plain": [
       "10.932499999999999"
      ]
     },
     "execution_count": 48,
     "metadata": {},
     "output_type": "execute_result"
    }
   ],
   "source": [
    "np.average(list)"
   ]
  },
  {
   "cell_type": "code",
   "execution_count": 49,
   "metadata": {
    "collapsed": true
   },
   "outputs": [],
   "source": [
    "def numofturns2(x0, w):\n",
    "    turn = 0 \n",
    "    while x0 > 1:\n",
    "        turn = turn + 1\n",
    "        x0 = process(x0, 0.5)\n",
    "    \n",
    "    return turn\n",
    "    "
   ]
  },
  {
   "cell_type": "code",
   "execution_count": 50,
   "metadata": {
    "collapsed": true
   },
   "outputs": [],
   "source": [
    "list2 =[]\n",
    "for i in range(10000):\n",
    "    list2 = list2 + [numofturns2(random.uniform(1,11),0.5)]"
   ]
  },
  {
   "cell_type": "code",
   "execution_count": 51,
   "metadata": {},
   "outputs": [
    {
     "data": {
      "image/png": "[encoded data removed]",
      "text/plain": [
       "<matplotlib.figure.Figure at 0x1057d5b90>"
      ]
     },
     "metadata": {},
     "output_type": "display_data"
    }
   ],
   "source": [
    "plt.plot(list2) \n",
    "plt.show()"
   ]
  },
  {
   "cell_type": "code",
   "execution_count": 52,
   "metadata": {},
   "outputs": [
    {
     "data": {
      "text/plain": [
       "11.1015"
      ]
     },
     "execution_count": 52,
     "metadata": {},
     "output_type": "execute_result"
    }
   ],
   "source": [
    "np.average(list2)"
   ]
  },
  {
   "cell_type": "code",
   "execution_count": null,
   "metadata": {
    "collapsed": true
   },
   "outputs": [],
   "source": []
  }
 ],
 "metadata": {
  "kernelspec": {
   "display_name": "Python 2",
   "language": "python",
   "name": "python2"
  },
  "language_info": {
   "codemirror_mode": {
    "name": "ipython",
    "version": 2
   },
   "file_extension": ".py",
   "mimetype": "text/x-python",
   "name": "python",
   "nbconvert_exporter": "python",
   "pygments_lexer": "ipython2",
   "version": "2.7.13"
  }
 },
 "nbformat": 4,
 "nbformat_minor": 2
}
