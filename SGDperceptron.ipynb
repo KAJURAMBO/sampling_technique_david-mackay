{
 "cells": [
  {
   "cell_type": "code",
   "execution_count": 364,
   "metadata": {
    "collapsed": true
   },
   "outputs": [],
   "source": [
    "import random\n",
    "import numpy as np\n",
    "\n",
    "import scipy.stats as st\n",
    "import matplotlib.pyplot as plt\n",
    "import scipy.special as sp\n",
    "import scipy.integrate as integrate\n",
    "%precision 6\n",
    "from __future__ import division\n",
    "\n",
    "%matplotlib inline\n",
    "plt.style.use('ggplot')"
   ]
  },
  {
   "cell_type": "code",
   "execution_count": 365,
   "metadata": {
    "collapsed": true
   },
   "outputs": [],
   "source": [
    "def sigmoid(a):\n",
    "    return 1/(1+np.exp(-a))\n",
    "    "
   ]
  },
  {
   "cell_type": "code",
   "execution_count": 366,
   "metadata": {},
   "outputs": [],
   "source": [
    "# initial x(2d vector) and target pair in 10*10 box\n",
    "\n",
    "def initial_values(N): # N x 4 matrix\n",
    "    return np.array([(1, np.random.uniform(0,10), np.random.uniform(0,10),np.random.binomial(1, 0.5) ) for i in range(N)])\n",
    "\n",
    "def weight(): \n",
    "    return np.array([np.random.uniform(-1,1), np.random.uniform(-1,1), np.random.uniform(-1,1)])\n"
   ]
  },
  {
   "cell_type": "code",
   "execution_count": 367,
   "metadata": {
    "collapsed": true
   },
   "outputs": [],
   "source": [
    "def linreg(x):\n",
    "    return -w[0]/w[2]-x*w[1]/w[2]"
   ]
  },
  {
   "cell_type": "code",
   "execution_count": 368,
   "metadata": {},
   "outputs": [],
   "source": [
    "N = 100\n",
    "w = weight()\n",
    "I = initial_values(N)\n",
    "x = I[:,:3]\n",
    "t = I[:,3]\n",
    "\n",
    "for i in range(N):\n",
    "    if x[:,2][i]>-0.5*x[:,1][i] + 6:\n",
    "        t[i]=1\n",
    "    else:\n",
    "        t[i]=0\n",
    "\n",
    "\n",
    "a= np.zeros(N)\n",
    "y = np.zeros(N)\n",
    "e = np.zeros(N)\n",
    "turns = 1000\n",
    "wlist =[w]\n",
    "turn = 1\n",
    "while turn < turns:\n",
    "    for i in range(N):\n",
    "        a[i] = np.dot(w, x[i])\n",
    "        y[i] = sigmoid(a[i])\n",
    "        e[i] = t[i] - y[i]\n",
    "\n",
    "        eta = 0.1/N**(0.4)\n",
    "        w =  w + eta * e[i] * x[i]\n",
    "        wlist += [w]\n",
    "        turn = turn +1"
   ]
  },
  {
   "cell_type": "code",
   "execution_count": 369,
   "metadata": {},
   "outputs": [
    {
     "data": {
      "text/plain": [
       "[0, 10, 0, 10]"
      ]
     },
     "execution_count": 369,
     "metadata": {},
     "output_type": "execute_result"
    },
    {
     "data": {
      "image/png": "[encoded data removed]",
      "text/plain": [
       "<matplotlib.figure.Figure at 0x10f6f4b90>"
      ]
     },
     "metadata": {},
     "output_type": "display_data"
    }
   ],
   "source": [
    "uplist = []\n",
    "downlist = []\n",
    "for i in range(N):\n",
    "    if t[i]==1:\n",
    "        uplist = uplist +[x[i]]\n",
    "        \n",
    "    else:\n",
    "        downlist = downlist +[x[i]]\n",
    "uplist = np.array(uplist)\n",
    "downlist = np.array(downlist)\n",
    "\n",
    "plt.plot(uplist[:,1], uplist[:,2],'x')\n",
    "plt.plot(downlist[:,1], downlist[:,2],'o')\n",
    "X = np.linspace(0.01, 10, 100)\n",
    "Y = linreg(X)\n",
    "plt.plot(X,Y)\n",
    "plt.axis([0,10,0,10])"
   ]
  },
  {
   "cell_type": "code",
   "execution_count": 370,
   "metadata": {},
   "outputs": [
    {
     "name": "stdout",
     "output_type": "stream",
     "text": [
      "3.19821239154 0.0864087309518\n"
     ]
    },
    {
     "data": {
      "image/png": "[encoded data removed]",
      "text/plain": [
       "<matplotlib.figure.Figure at 0x10d2d9a90>"
      ]
     },
     "metadata": {},
     "output_type": "display_data"
    }
   ],
   "source": [
    "# the graph of y-intrsection vs slope of the linear graph\n",
    "wlist = np.array(wlist)\n",
    "plt.plot(-wlist[:,0]/wlist[:,2], wlist[:,1]/wlist[:,2])\n",
    "plt.plot(-wlist[:,0][-1]/wlist[:,2][-1], wlist[:,1][-1]/wlist[:,2][-1], 'o')\n",
    "plt.axis([-10,10,-10,10])\n",
    "print -wlist[:,0][-1]/wlist[:,2][-1], wlist[:,1][-1]/wlist[:,2][-1]"
   ]
  },
  {
   "cell_type": "code",
   "execution_count": null,
   "metadata": {
    "collapsed": true
   },
   "outputs": [],
   "source": []
  },
  {
   "cell_type": "code",
   "execution_count": null,
   "metadata": {
    "collapsed": true
   },
   "outputs": [],
   "source": []
  },
  {
   "cell_type": "code",
   "execution_count": null,
   "metadata": {
    "collapsed": true
   },
   "outputs": [],
   "source": []
  },
  {
   "cell_type": "code",
   "execution_count": 371,
   "metadata": {},
   "outputs": [
    {
     "data": {
      "text/plain": [
       "[0, 10, 0, 10]"
      ]
     },
     "execution_count": 371,
     "metadata": {},
     "output_type": "execute_result"
    },
    {
     "data": {
      "image/png": "[encoded data removed]",
      "text/plain": [
       "<matplotlib.figure.Figure at 0x10dc31b50>"
      ]
     },
     "metadata": {},
     "output_type": "display_data"
    }
   ],
   "source": [
    "N = 100\n",
    "w = weight()\n",
    "I = initial_values(N)\n",
    "\n",
    "# same t and x \n",
    "\n",
    "eta = 0.01\n",
    "alpha = 0.01\n",
    "turn = 1\n",
    "turns = 1000\n",
    "wlist=[w]\n",
    "while turn < turns:\n",
    "    a = np.dot(x, w)\n",
    "    y = sigmoid(a)\n",
    "    e = t - y\n",
    "    g = -np.dot(np.transpose(x), e) # sum , batch \n",
    "\n",
    "    w = w - eta * ( g + alpha * w )\n",
    "    wlist += [w]\n",
    "    turn += 1\n",
    "uplist = []\n",
    "downlist = []\n",
    "for i in range(N):\n",
    "    if t[i]==1:\n",
    "        uplist = uplist +[x[i]]\n",
    "        \n",
    "    else:\n",
    "        downlist = downlist +[x[i]]\n",
    "uplist = np.array(uplist)\n",
    "downlist = np.array(downlist)\n",
    "\n",
    "plt.plot(uplist[:,1], uplist[:,2],'x')\n",
    "plt.plot(downlist[:,1], downlist[:,2],'o')\n",
    "X = np.linspace(0.01, 10, 100)\n",
    "Y = linreg(X)\n",
    "plt.plot(X,Y)\n",
    "plt.axis([0,10,0,10])"
   ]
  },
  {
   "cell_type": "code",
   "execution_count": 372,
   "metadata": {},
   "outputs": [
    {
     "name": "stdout",
     "output_type": "stream",
     "text": [
      "5.75274082739 0.461318323837\n"
     ]
    },
    {
     "data": {
      "text/plain": [
       "[-10, 10, -10, 10]"
      ]
     },
     "execution_count": 372,
     "metadata": {},
     "output_type": "execute_result"
    },
    {
     "data": {
      "image/png": "[encoded data removed]",
      "text/plain": [
       "<matplotlib.figure.Figure at 0x10d2c1710>"
      ]
     },
     "metadata": {},
     "output_type": "display_data"
    }
   ],
   "source": [
    "# the graph of y-intrsection vs slope of the linear graph\n",
    "wlist = np.array(wlist)\n",
    "plt.plot(-wlist[:,0]/wlist[:,2], wlist[:,1]/wlist[:,2])\n",
    "plt.plot(-wlist[:,0][-1]/wlist[:,2][-1], wlist[:,1][-1]/wlist[:,2][-1], 'o')\n",
    "print -wlist[:,0][-1]/wlist[:,2][-1], wlist[:,1][-1]/wlist[:,2][-1]\n",
    "plt.axis([-10,10,-10,10])"
   ]
  },
  {
   "cell_type": "code",
   "execution_count": null,
   "metadata": {
    "collapsed": true
   },
   "outputs": [],
   "source": []
  },
  {
   "cell_type": "code",
   "execution_count": null,
   "metadata": {
    "collapsed": true
   },
   "outputs": [],
   "source": []
  }
 ],
 "metadata": {
  "kernelspec": {
   "display_name": "Python 2",
   "language": "python",
   "name": "python2"
  },
  "language_info": {
   "codemirror_mode": {
    "name": "ipython",
    "version": 2
   },
   "file_extension": ".py",
   "mimetype": "text/x-python",
   "name": "python",
   "nbconvert_exporter": "python",
   "pygments_lexer": "ipython2",
   "version": "2.7.13"
  }
 },
 "nbformat": 4,
 "nbformat_minor": 2
}
