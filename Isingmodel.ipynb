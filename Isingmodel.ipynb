{
 "cells": [
  {
   "cell_type": "code",
   "execution_count": 1,
   "metadata": {
    "collapsed": true
   },
   "outputs": [],
   "source": [
    "import numpy as np\n",
    "import random\n",
    "import matplotlib.pyplot as plt\n",
    "\n",
    "%matplotlib inline\n",
    "plt.style.use('ggplot')\n"
   ]
  },
  {
   "cell_type": "code",
   "execution_count": 179,
   "metadata": {
    "collapsed": true
   },
   "outputs": [],
   "source": [
    "l = 200\n",
    "T = 100.0\n",
    "beta = 1/T\n"
   ]
  },
  {
   "cell_type": "code",
   "execution_count": 180,
   "metadata": {},
   "outputs": [],
   "source": [
    "s= np.ones((l,l))\n",
    "\n",
    "for i in range(l):\n",
    "    for j in range(l):\n",
    "        if random.random() > 0.5:\n",
    "            s[i,j] = -s[i,j]\n",
    "            "
   ]
  },
  {
   "cell_type": "code",
   "execution_count": 181,
   "metadata": {
    "collapsed": true
   },
   "outputs": [],
   "source": [
    "E0 = np.zeros((l-1,l-1))\n",
    "E1 = np.zeros((l-1,l-1))\n"
   ]
  },
  {
   "cell_type": "code",
   "execution_count": 182,
   "metadata": {},
   "outputs": [],
   "source": [
    "for i in range(l-1):\n",
    "    for j in range(l-1):\n",
    "        E1[i,j] = - 0.5 * s[i,j]*(s[i-1,j]+s[i+1,j]+s[i,j-1]+s[i,j+1])\n",
    "\n",
    "EnergyGap = E1 - E0"
   ]
  },
  {
   "cell_type": "code",
   "execution_count": 183,
   "metadata": {},
   "outputs": [
    {
     "data": {
      "text/plain": [
       "-24.0"
      ]
     },
     "execution_count": 183,
     "metadata": {},
     "output_type": "execute_result"
    }
   ],
   "source": [
    "sum(sum(EnergyGap))"
   ]
  },
  {
   "cell_type": "code",
   "execution_count": 184,
   "metadata": {},
   "outputs": [
    {
     "data": {
      "text/plain": [
       "array([[ 1., -0.,  2., ..., -1.,  0., -1.],\n",
       "       [-1., -1., -0., ..., -0.,  0., -0.],\n",
       "       [-0.,  2., -0., ..., -0., -1.,  0.],\n",
       "       ..., \n",
       "       [-0.,  0.,  2., ..., -2., -1.,  0.],\n",
       "       [-0.,  0.,  0., ..., -1., -1., -1.],\n",
       "       [-0., -1., -1., ..., -1., -1.,  0.]])"
      ]
     },
     "execution_count": 184,
     "metadata": {},
     "output_type": "execute_result"
    }
   ],
   "source": [
    "EnergyGap"
   ]
  },
  {
   "cell_type": "code",
   "execution_count": 245,
   "metadata": {},
   "outputs": [],
   "source": [
    "l = 64\n",
    "T = 1.0\n",
    "beta = 1/T\n",
    "\n",
    "s= np.ones((l,l))\n",
    "\n",
    "for i in range(l):\n",
    "    for j in range(l):\n",
    "        if random.random() > 0.5:\n",
    "            s[i,j] = -s[i,j]\n",
    "turns = 0\n",
    "count1 = 0\n",
    "count2 = 0\n",
    "E = np.zeros((l-1,l-1))\n",
    "while turns < 1000:\n",
    "    for i in range(l-1):\n",
    "        for j in range(l-1):\n",
    "            E[i,j] = - 0.5 * s[i,j]*(s[i-1,j]+s[i+1,j]+s[i,j-1]+s[i,j+1])\n",
    "\n",
    "    turns = turns + 1\n",
    "    for i in range(l-1):\n",
    "        for j in range(l-1):\n",
    "            EnergyGap[i,j] = - 0.5 * 2*s[i,j]*(s[i-1,j]+s[i+1,j]+s[i,j-1]+s[i,j+1])\n",
    "            if EnergyGap[i,j]  <= 0:\n",
    "                s[i,j] = - s[i,j]\n",
    "                count1 = count1 +1\n",
    "            else:\n",
    "                if random.random() < np.exp(-beta* EnergyGap[i,j]):\n",
    "                    s[i,j] = - s[i,j]\n",
    "                    count2 = count2 +1\n",
    "\n",
    "\n"
   ]
  },
  {
   "cell_type": "code",
   "execution_count": 248,
   "metadata": {},
   "outputs": [
    {
     "data": {
      "text/plain": [
       "<matplotlib.collections.PolyCollection at 0x10bb92d90>"
      ]
     },
     "execution_count": 248,
     "metadata": {},
     "output_type": "execute_result"
    },
    {
     "data": {
      "image/png": "[encoded data removed]",
      "text/plain": [
       "<matplotlib.figure.Figure at 0x10b74ded0>"
      ]
     },
     "metadata": {},
     "output_type": "display_data"
    }
   ],
   "source": [
    "#Low T\n",
    "\n",
    "plt.pcolor(s)"
   ]
  },
  {
   "cell_type": "code",
   "execution_count": 247,
   "metadata": {},
   "outputs": [
    {
     "data": {
      "text/plain": [
       "-16.0"
      ]
     },
     "execution_count": 247,
     "metadata": {},
     "output_type": "execute_result"
    }
   ],
   "source": [
    "sum(sum(s))"
   ]
  },
  {
   "cell_type": "code",
   "execution_count": 235,
   "metadata": {},
   "outputs": [
    {
     "name": "stdout",
     "output_type": "stream",
     "text": [
      "-59.0\n",
      "-42.0\n",
      "-11.0\n",
      "-14.0\n",
      "5.0\n",
      "3.0\n",
      "-13.0\n",
      "-8.0\n",
      "-10.0\n",
      "-11.0\n",
      "24.0\n",
      "3.0\n",
      "48.0\n",
      "39.0\n",
      "36.0\n",
      "44.0\n",
      "15.0\n",
      "2.0\n",
      "14.0\n",
      "25.0\n"
     ]
    }
   ],
   "source": [
    "l = 64\n",
    "T = 100.0\n",
    "beta = 1/T\n",
    "\n",
    "s= np.ones((l,l))\n",
    "\n",
    "for i in range(l):\n",
    "    for j in range(l):\n",
    "        if random.random() > 0.5:\n",
    "            s[i,j] = -s[i,j]\n",
    "turns = 0\n",
    "count1 = 0\n",
    "count2 = 0\n",
    "E = np.zeros((l-1,l-1))\n",
    "while turns < 20:\n",
    "    for i in range(l-1):\n",
    "        for j in range(l-1):\n",
    "            E[i,j] = - 0.5 * s[i,j]*(s[i-1,j]+s[i+1,j]+s[i,j-1]+s[i,j+1])\n",
    "\n",
    "    turns = turns + 1\n",
    "    for i in range(l-1):\n",
    "        for j in range(l-1):\n",
    "            EnergyGap[i,j] = - 0.5 * 2*s[i,j]*(s[i-1,j]+s[i+1,j]+s[i,j-1]+s[i,j+1])\n",
    "            if EnergyGap[i,j]  <= 0:\n",
    "                s[i,j] = - s[i,j]\n",
    "                count1 = count1 +1\n",
    "            else:\n",
    "                if random.random() < np.exp(-beta* EnergyGap[i,j]):\n",
    "                    s[i,j] = - s[i,j]\n",
    "                    count2 = count2 +1\n",
    "\n",
    "                    \n",
    "    print sum(sum(E))\n",
    "\n",
    "\n"
   ]
  },
  {
   "cell_type": "code",
   "execution_count": 236,
   "metadata": {},
   "outputs": [
    {
     "data": {
      "text/plain": [
       "<matplotlib.collections.PolyCollection at 0x10af0ac90>"
      ]
     },
     "execution_count": 236,
     "metadata": {},
     "output_type": "execute_result"
    },
    {
     "data": {
      "image/png": "[encoded data removed]",
      "text/plain": [
       "<matplotlib.figure.Figure at 0x10aac6290>"
      ]
     },
     "metadata": {},
     "output_type": "display_data"
    }
   ],
   "source": [
    "# high T\n",
    "\n",
    "plt.pcolor(s)"
   ]
  },
  {
   "cell_type": "code",
   "execution_count": 237,
   "metadata": {},
   "outputs": [
    {
     "data": {
      "text/plain": [
       "24.0"
      ]
     },
     "execution_count": 237,
     "metadata": {},
     "output_type": "execute_result"
    }
   ],
   "source": [
    "sum(sum(s))"
   ]
  },
  {
   "cell_type": "code",
   "execution_count": 213,
   "metadata": {},
   "outputs": [
    {
     "data": {
      "text/plain": [
       "2022"
      ]
     },
     "execution_count": 213,
     "metadata": {},
     "output_type": "execute_result"
    }
   ],
   "source": [
    "4096-2074"
   ]
  },
  {
   "cell_type": "code",
   "execution_count": 214,
   "metadata": {},
   "outputs": [
    {
     "data": {
      "text/plain": [
       "3169"
      ]
     },
     "execution_count": 214,
     "metadata": {},
     "output_type": "execute_result"
    }
   ],
   "source": [
    "(4096+2243)/2"
   ]
  },
  {
   "cell_type": "code",
   "execution_count": 215,
   "metadata": {},
   "outputs": [
    {
     "data": {
      "text/plain": [
       "927"
      ]
     },
     "execution_count": 215,
     "metadata": {},
     "output_type": "execute_result"
    }
   ],
   "source": [
    "4096-3169"
   ]
  },
  {
   "cell_type": "code",
   "execution_count": 204,
   "metadata": {},
   "outputs": [],
   "source": [
    "Listx = []\n",
    "Listy = []\n",
    "for i in range(l):\n",
    "    for j in range(l):\n",
    "        if s[i,j] == 1:\n",
    "            Listx = Listx + [i]\n",
    "            Listy = Listy + [j]"
   ]
  },
  {
   "cell_type": "code",
   "execution_count": 206,
   "metadata": {},
   "outputs": [
    {
     "data": {
      "text/plain": [
       "[<matplotlib.lines.Line2D at 0x1097c2b90>]"
      ]
     },
     "execution_count": 206,
     "metadata": {},
     "output_type": "execute_result"
    },
    {
     "data": {
      "image/png": "[encoded data removed]",
      "text/plain": [
       "<matplotlib.figure.Figure at 0x1096e7990>"
      ]
     },
     "metadata": {},
     "output_type": "display_data"
    }
   ],
   "source": [
    "plt.plot(Listx,Listy,',')"
   ]
  },
  {
   "cell_type": "code",
   "execution_count": 132,
   "metadata": {},
   "outputs": [
    {
     "data": {
      "text/plain": [
       "[<matplotlib.lines.Line2D at 0x111aaf090>]"
      ]
     },
     "execution_count": 132,
     "metadata": {},
     "output_type": "execute_result"
    },
    {
     "data": {
      "image/png": "[encoded data removed]",
      "text/plain": [
       "<matplotlib.figure.Figure at 0x110dee890>"
      ]
     },
     "metadata": {},
     "output_type": "display_data"
    }
   ],
   "source": [
    "l = 64\n",
    "T = 5.0\n",
    "beta = 1/T\n",
    "\n",
    "s= np.ones((l,l))\n",
    "\n",
    "for i in range(l):\n",
    "    for j in range(l):\n",
    "        if random.random() > 0.5:\n",
    "            s[i,j] = -s[i,j]\n",
    "            \n",
    "E0 = np.zeros((l,l))\n",
    "E1 = np.zeros((l,l))\n",
    "\n",
    "for i in range(l-1):\n",
    "    for j in range(l-1):\n",
    "        E1[i,j] = - 0.5 * s[i,j]*(s[i-1,j]+s[i+1,j]+s[i,j-1]+s[i,j+1])\n",
    "\n",
    "EnergyGap = E1 - E0\n",
    "\n",
    "turns = 0\n",
    "while turns < 10:\n",
    "    turns += 1\n",
    "    for i in range(l-1):\n",
    "        for j in range(l-1):\n",
    "            if EnergyGap[i,j]  <= 0:\n",
    "                s[i,j] = - s[i,j]\n",
    "            else:\n",
    "                if random.random() < np.exp(-beta* EnergyGap[i,j]):\n",
    "                    s[i,j] = - s[i,j]\n",
    "    E0 = E1        \n",
    "    E1[i,j] = - 0.5 * s[i,j]*(s[i-1,j]+s[i+1,j]+s[i,j-1]+s[i,j+1])\n",
    "    EnergyGap = E1 - E0 \n",
    "    \n",
    "Listx = []\n",
    "Listy = []\n",
    "for i in range(l):\n",
    "    for j in range(l):\n",
    "        if s[i,j] == 1:\n",
    "            Listx = Listx + [i]\n",
    "            Listy = Listy + [j]\n",
    "            \n",
    "plt.plot(Listx,Listy,'o')"
   ]
  },
  {
   "cell_type": "code",
   "execution_count": 133,
   "metadata": {},
   "outputs": [
    {
     "data": {
      "text/plain": [
       "2036"
      ]
     },
     "execution_count": 133,
     "metadata": {},
     "output_type": "execute_result"
    }
   ],
   "source": [
    "len(Listx)"
   ]
  },
  {
   "cell_type": "code",
   "execution_count": 134,
   "metadata": {},
   "outputs": [
    {
     "data": {
      "text/plain": [
       "[<matplotlib.lines.Line2D at 0x111bdd490>]"
      ]
     },
     "execution_count": 134,
     "metadata": {},
     "output_type": "execute_result"
    },
    {
     "data": {
      "image/png": "[encoded data removed]",
      "text/plain": [
       "<matplotlib.figure.Figure at 0x110dac9d0>"
      ]
     },
     "metadata": {},
     "output_type": "display_data"
    }
   ],
   "source": [
    "l = 64\n",
    "T = 1.0\n",
    "beta = 1/T\n",
    "\n",
    "s= np.ones((l,l))\n",
    "\n",
    "for i in range(l):\n",
    "    for j in range(l):\n",
    "        if random.random() > 0.5:\n",
    "            s[i,j] = -s[i,j]\n",
    "            \n",
    "E0 = np.zeros((l,l))\n",
    "E1 = np.zeros((l,l))\n",
    "\n",
    "for i in range(l-1):\n",
    "    for j in range(l-1):\n",
    "        E1[i,j] = - 0.5 * s[i,j]*(s[i-1,j]+s[i+1,j]+s[i,j-1]+s[i,j+1])\n",
    "\n",
    "EnergyGap = E1 - E0\n",
    "\n",
    "turns = 0\n",
    "while turns < 100:\n",
    "    turns += 1\n",
    "    for i in range(l-1):\n",
    "        for j in range(l-1):\n",
    "            if EnergyGap[i,j]  <= 0:\n",
    "                s[i,j] = - s[i,j]\n",
    "            else:\n",
    "                if random.random() < np.exp(-beta* EnergyGap[i,j]):\n",
    "                    s[i,j] = - s[i,j]\n",
    "    E0 = E1        \n",
    "    E1[i,j] = - 0.5 * s[i,j]*(s[i-1,j]+s[i+1,j]+s[i,j-1]+s[i,j+1])\n",
    "    EnergyGap = E1 - E0 \n",
    "    \n",
    "Listx = []\n",
    "Listy = []\n",
    "for i in range(l):\n",
    "    for j in range(l):\n",
    "        if s[i,j] == 1:\n",
    "            Listx = Listx + [i]\n",
    "            Listy = Listy + [j]\n",
    "            \n",
    "plt.plot(Listx,Listy,'o')"
   ]
  },
  {
   "cell_type": "code",
   "execution_count": 135,
   "metadata": {},
   "outputs": [
    {
     "data": {
      "text/plain": [
       "2023"
      ]
     },
     "execution_count": 135,
     "metadata": {},
     "output_type": "execute_result"
    }
   ],
   "source": [
    "len(Listx)"
   ]
  },
  {
   "cell_type": "code",
   "execution_count": null,
   "metadata": {
    "collapsed": true
   },
   "outputs": [],
   "source": []
  }
 ],
 "metadata": {
  "kernelspec": {
   "display_name": "Python 2",
   "language": "python",
   "name": "python2"
  },
  "language_info": {
   "codemirror_mode": {
    "name": "ipython",
    "version": 2
   },
   "file_extension": ".py",
   "mimetype": "text/x-python",
   "name": "python",
   "nbconvert_exporter": "python",
   "pygments_lexer": "ipython2",
   "version": "2.7.10"
  }
 },
 "nbformat": 4,
 "nbformat_minor": 2
}
