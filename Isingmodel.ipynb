{
 "cells": [
  {
   "cell_type": "code",
   "execution_count": 45,
   "metadata": {
    "collapsed": true
   },
   "outputs": [],
   "source": [
    "import numpy as np\n",
    "import random\n",
    "import matplotlib.pyplot as plt\n",
    "\n",
    "%matplotlib inline\n",
    "plt.style.use('ggplot')\n"
   ]
  },
  {
   "cell_type": "code",
   "execution_count": 55,
   "metadata": {},
   "outputs": [
    {
     "data": {
      "text/plain": [
       "<matplotlib.text.Text at 0x10badd890>"
      ]
     },
     "execution_count": 55,
     "metadata": {},
     "output_type": "execute_result"
    },
    {
     "data": {
      "image/png": "[encoded data removed]",
      "text/plain": [
       "<matplotlib.figure.Figure at 0x10934ddd0>"
      ]
     },
     "metadata": {},
     "output_type": "display_data"
    }
   ],
   "source": [
    "#low T\n",
    "\n",
    "l = 64\n",
    "T = 2.0\n",
    "beta = 1/T\n",
    "\n",
    "s= np.ones((l,l))\n",
    "\n",
    "for i in range(l):\n",
    "    for j in range(l):\n",
    "        if random.random() > 0.5:\n",
    "            s[i,j] = -s[i,j]\n",
    "plt.subplot(1,2,1)\n",
    "plt.pcolor(s)\n",
    "plt.ylabel('Ising model')\n",
    "plt.xlabel('random')\n",
    "           \n",
    "turns = 0\n",
    "\n",
    "dE = np.zeros((l,l))\n",
    "while turns < 300:\n",
    "    turns = turns + 1\n",
    "    for i in range(l):\n",
    "        for j in range(l):\n",
    "            dE[i,j] =  0.5 * 2 * s[i,j]*(s[(i-1)%l,j]+s[(i+1)%l,j]+s[i,(j-1)%l]+s[i,(j+1)%l])\n",
    "            if dE[i,j]  < 0 or random.random() < np.exp(-2*beta* dE[i,j]):\n",
    "                s[i,j] = - s[i,j]\n",
    "plt.subplot(1,2,2)                \n",
    "plt.pcolor(s)\n",
    "plt.xlabel('low temperature after enough time')"
   ]
  },
  {
   "cell_type": "code",
   "execution_count": 57,
   "metadata": {},
   "outputs": [
    {
     "data": {
      "text/plain": [
       "-3694.0"
      ]
     },
     "execution_count": 57,
     "metadata": {},
     "output_type": "execute_result"
    }
   ],
   "source": [
    "sum(sum(s))"
   ]
  },
  {
   "cell_type": "code",
   "execution_count": 58,
   "metadata": {},
   "outputs": [
    {
     "data": {
      "text/plain": [
       "4096"
      ]
     },
     "execution_count": 58,
     "metadata": {},
     "output_type": "execute_result"
    }
   ],
   "source": [
    "64*64"
   ]
  },
  {
   "cell_type": "code",
   "execution_count": null,
   "metadata": {
    "collapsed": true
   },
   "outputs": [],
   "source": []
  }
 ],
 "metadata": {
  "kernelspec": {
   "display_name": "Python 2",
   "language": "python",
   "name": "python2"
  },
  "language_info": {
   "codemirror_mode": {
    "name": "ipython",
    "version": 2
   },
   "file_extension": ".py",
   "mimetype": "text/x-python",
   "name": "python",
   "nbconvert_exporter": "python",
   "pygments_lexer": "ipython2",
   "version": "2.7.10"
  }
 },
 "nbformat": 4,
 "nbformat_minor": 2
}
