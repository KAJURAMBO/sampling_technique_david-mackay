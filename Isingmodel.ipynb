{
 "cells": [
  {
   "cell_type": "code",
   "execution_count": 45,
   "metadata": {
    "collapsed": true
   },
   "outputs": [],
   "source": [
    "import numpy as np\n",
    "import random\n",
    "import matplotlib.pyplot as plt\n",
    "\n",
    "%matplotlib inline\n",
    "plt.style.use('ggplot')\n"
   ]
  },
  {
   "cell_type": "code",
   "execution_count": 55,
   "metadata": {},
   "outputs": [
    {
     "data": {
      "text/plain": [
       "<matplotlib.text.Text at 0x10badd890>"
      ]
     },
     "execution_count": 55,
     "metadata": {},
     "output_type": "execute_result"
    },
    {
     "data": {
      "image/png": "[encoded data removed]",
      "text/plain": [
       "<matplotlib.figure.Figure at 0x10934ddd0>"
      ]
     },
     "metadata": {},
     "output_type": "display_data"
    }
   ],
   "source": [
    "#low T\n",
    "\n",
    "l = 64\n",
    "T = 2.0\n",
    "beta = 1/T\n",
    "\n",
    "s= np.ones((l,l))\n",
    "\n",
    "for i in range(l):\n",
    "    for j in range(l):\n",
    "        if random.random() > 0.5:\n",
    "            s[i,j] = -s[i,j]\n",
    "plt.subplot(1,2,1)\n",
    "plt.pcolor(s)\n",
    "plt.ylabel('Ising model')\n",
    "plt.xlabel('random')\n",
    "           \n",
    "turns = 0\n",
    "\n",
    "dE = np.zeros((l,l))\n",
    "while turns < 300:\n",
    "    turns = turns + 1\n",
    "    for i in range(l):\n",
    "        for j in range(l):\n",
    "            dE[i,j] =  0.5 * 2 * s[i,j]*(s[(i-1)%l,j]+s[(i+1)%l,j]+s[i,(j-1)%l]+s[i,(j+1)%l])\n",
    "            if dE[i,j]  < 0 or random.random() < np.exp(-2*beta* dE[i,j]):\n",
    "                s[i,j] = - s[i,j]\n",
    "plt.subplot(1,2,2)                \n",
    "plt.pcolor(s)\n",
    "plt.xlabel('low temperature after enough time')"
   ]
  },
  {
   "cell_type": "code",
   "execution_count": 61,
   "metadata": {},
   "outputs": [
    {
     "data": {
      "text/plain": [
       "-1.739013671875"
      ]
     },
     "execution_count": 61,
     "metadata": {},
     "output_type": "execute_result"
    }
   ],
   "source": [
    "np.mean(-dE/2)"
   ]
  },
  {
   "cell_type": "code",
   "execution_count": 62,
   "metadata": {},
   "outputs": [],
   "source": [
    "def meanE(T,turns=300,lattice_size=64):\n",
    "    beta = 1/T\n",
    "\n",
    "    s= np.ones((l,l))\n",
    "\n",
    "    for i in range(l):\n",
    "        for j in range(l):\n",
    "            if random.random() > 0.5:\n",
    "                s[i,j] = -s[i,j]\n",
    "    turns = 0\n",
    "\n",
    "    dE = np.zeros((l,l))\n",
    "    while turns < 300:\n",
    "        turns = turns + 1\n",
    "        for i in range(l):\n",
    "            for j in range(l):\n",
    "                dE[i,j] =  0.5 * 2 * s[i,j]*(s[(i-1)%l,j]+s[(i+1)%l,j]+s[i,(j-1)%l]+s[i,(j+1)%l])\n",
    "                if dE[i,j]  < 0 or random.random() < np.exp(-2*beta* dE[i,j]):\n",
    "                    s[i,j] = - s[i,j]\n",
    "    return np.mean(-dE/2)\n",
    "    "
   ]
  },
  {
   "cell_type": "code",
   "execution_count": 72,
   "metadata": {},
   "outputs": [
    {
     "data": {
      "text/plain": [
       "-0.8232421875"
      ]
     },
     "execution_count": 72,
     "metadata": {},
     "output_type": "execute_result"
    }
   ],
   "source": [
    "meanE(3.0)"
   ]
  },
  {
   "cell_type": "code",
   "execution_count": 68,
   "metadata": {},
   "outputs": [
    {
     "data": {
      "text/plain": [
       "(74, 0.20000000000000001)"
      ]
     },
     "execution_count": 68,
     "metadata": {},
     "output_type": "execute_result"
    }
   ],
   "source": [
    "Ts = np.arange(0.2,15,0.2)\n",
    "len(Ts), Ts[0]"
   ]
  },
  {
   "cell_type": "code",
   "execution_count": 77,
   "metadata": {},
   "outputs": [],
   "source": [
    "meanEs = []\n",
    "\n",
    "for i in Ts:\n",
    "    meanEs=meanEs+[meanE(i)]"
   ]
  },
  {
   "cell_type": "code",
   "execution_count": 96,
   "metadata": {},
   "outputs": [
    {
     "data": {
      "text/plain": [
       "[<matplotlib.lines.Line2D at 0x10d2d5090>]"
      ]
     },
     "execution_count": 96,
     "metadata": {},
     "output_type": "execute_result"
    },
    {
     "data": {
      "image/png": "[encoded data removed]",
      "text/plain": [
       "<matplotlib.figure.Figure at 0x10d0be090>"
      ]
     },
     "metadata": {},
     "output_type": "display_data"
    }
   ],
   "source": [
    "plt.plot(Ts,meanEs,'.')"
   ]
  },
  {
   "cell_type": "code",
   "execution_count": 95,
   "metadata": {},
   "outputs": [
    {
     "data": {
      "text/plain": [
       "[<matplotlib.lines.Line2D at 0x10d1a4690>]"
      ]
     },
     "execution_count": 95,
     "metadata": {},
     "output_type": "execute_result"
    },
    {
     "data": {
      "image/png": "[encoded data removed]",
      "text/plain": [
       "<matplotlib.figure.Figure at 0x10ce469d0>"
      ]
     },
     "metadata": {},
     "output_type": "display_data"
    }
   ],
   "source": [
    "plt.plot(Ts[9:25],meanEs[9:25],'.')"
   ]
  },
  {
   "cell_type": "code",
   "execution_count": null,
   "metadata": {
    "collapsed": true
   },
   "outputs": [],
   "source": []
  }
 ],
 "metadata": {
  "kernelspec": {
   "display_name": "Python 2",
   "language": "python",
   "name": "python2"
  },
  "language_info": {
   "codemirror_mode": {
    "name": "ipython",
    "version": 2
   },
   "file_extension": ".py",
   "mimetype": "text/x-python",
   "name": "python",
   "nbconvert_exporter": "python",
   "pygments_lexer": "ipython2",
   "version": "2.7.10"
  }
 },
 "nbformat": 4,
 "nbformat_minor": 2
}
