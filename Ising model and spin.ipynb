{
 "cells": [
  {
   "cell_type": "code",
   "execution_count": 19,
   "metadata": {},
   "outputs": [],
   "source": [
    "from __future__ import division\n",
    "import numpy as np\n",
    "\n",
    "\n",
    "%matplotlib inline\n",
    "plt.style.use('ggplot')\n",
    "\n",
    "def init_lattice(n):\n",
    "\n",
    "    '''Create a nxn lattice with random spin configuration'''\n",
    "    \n",
    "    lattice = np.random.choice([1, -1], size=(n, n))\n",
    "    return lattice\n",
    "\n",
    "\n",
    "def deltaE(S0, Sn, J, H):\n",
    "\n",
    "    '''Energy difference for a spin flip'''\n",
    "    \n",
    "    return 2 * S0 * (H + J * Sn)\n",
    "\n",
    "\n",
    "def ising(n=200, \n",
    "          nsteps=50000,\n",
    "          H=0,\n",
    "          J=1,\n",
    "          T=1,\n",
    "          count_spins = False,\n",
    "          countij = [1,1],\n",
    "          correlation=False,\n",
    "          corr_ij=[0,0],\n",
    "          corr_r=1):\n",
    "\n",
    "    '''Ising Model Simulator. If count_spins = True, only flipping behavior of 1 site is studied.'''\n",
    "    \n",
    "    lattice = init_lattice(n)\n",
    "    energy = 0\n",
    "    energies = []\n",
    "    spins = []\n",
    "    spin = np.sum(lattice)\n",
    "    icount, jcount = countij\n",
    "    counted_spins = [lattice[icount, jcount]] \n",
    "    counted_intervals = []\n",
    "    icorr, jcorr = corr_ij\n",
    "    Sis = []\n",
    "    SiSjs = []\n",
    "    \n",
    "    for step in xrange(nsteps):\n",
    "\n",
    "        i = np.random.randint(n)\n",
    "        j = np.random.randint(n)\n",
    "\n",
    "        # Periodic Boundary Condition\n",
    "        Sn = lattice[(i - 1) % n, j] + lattice[(i + 1) % n, j] + \\\n",
    "             lattice[i, (j - 1) % n] + lattice[i, (j + 1) % n]\n",
    "\n",
    "        dE = deltaE(lattice[i, j], Sn, J, H)\n",
    "\n",
    "        if dE < 0 or np.random.random() < np.exp(-dE/T):\n",
    "            lattice[i, j] = -lattice[i, j]\n",
    "            energy += dE\n",
    "            energies.append(energy)\n",
    "         # Note that the spin is collected at every step\n",
    "            spin += 2*lattice[i, j]\n",
    "        \n",
    "        if count_spins:\n",
    "            ispin = lattice[icount, jcount]\n",
    "            if ispin != counted_spins[-1]:\n",
    "                counted_spins.append(ispin)\n",
    "                counted_interval = step - sum(counted_intervals)\n",
    "\n",
    "                counted_intervals.append(counted_interval)\n",
    "        if correlation:\n",
    "            Sn_corr = lattice[(icorr - corr_r) % n, jcorr] + lattice[(icorr + corr_r) % n, jcorr] + \\\n",
    "                      lattice[icorr, (jcorr - corr_r) % n] + lattice[icorr, (jcorr + corr_r) % n]\n",
    "            Si = lattice[icorr, jcorr]\n",
    "            SiSj = Si * Sn_corr / 4.0\n",
    "            Sis.append(Si)\n",
    "            SiSjs.append(SiSj)\n",
    "            \n",
    "        spins.append(spin)\n",
    "\n",
    "\n",
    "    if correlation:\n",
    "        return Sis, SiSjs\n",
    "    \n",
    "    if count_spins:\n",
    "        return counted_spins, counted_intervals\n",
    "        \n",
    "    return lattice, energies, spins\n",
    "    \n",
    "\n",
    "def ising1000(n=1000, nsteps=10000000000, H=0, J=1, T=1):\n",
    "\n",
    "    '''Ising Model Simulator. Special case for very large lattices.\n",
    "    To reduce some memory usage:\n",
    "    spin is added to the array every 1000 steps.\n",
    "    Energies are not returned.\n",
    "    Still pretty inefficient!\n",
    "    '''\n",
    "    \n",
    "    lattice = init_lattice(n)\n",
    "    energy = 0\n",
    "\n",
    "    spins = []\n",
    "    spin = np.sum(lattice)\n",
    "    for istep, step in enumerate(xrange(nsteps)):\n",
    "\n",
    "        i = np.random.randint(n)\n",
    "        j = np.random.randint(n)\n",
    "\n",
    "        # Periodic Boundary Condition\n",
    "        Sn = lattice[(i - 1) % n, j] + lattice[(i + 1) % n, j] + \\\n",
    "             lattice[i, (j - 1) % n] + lattice[i, (j + 1) % n]\n",
    "\n",
    "        dE = deltaE(lattice[i, j], Sn, J, H)\n",
    "\n",
    "        if dE < 0 or np.random.random() < np.exp(-dE/T):\n",
    "            lattice[i, j] = -lattice[i, j]\n",
    "            energy += dE\n",
    "            spin += 2*lattice[i, j]\n",
    "        if istep % 1000 == 0:\n",
    "            spins.append(spin)\n",
    "    return lattice, spins\n",
    "\n",
    "\n",
    "def write_job_script(wd='./', n=10, s=1000, i=1, T=1., nprocs=1, pe='smp', name = 'batch', q = 'long'):\n",
    "    '''\n",
    "    This is a function that writes a script to submit MC jobs\n",
    "    '''\n",
    "    py_file = '/afs/crc.nd.edu/user/p/pmehta1/ising-monte-carlo/spins.py'\n",
    "    script='''#!/bin/bash\n",
    "#$ -N {0}\n",
    "#$ -pe {1} {2}\n",
    "#$ -q {3}\n",
    "#$ -cwd\n",
    "'''.format(name, pe, nprocs, q)\n",
    "       \n",
    "    if nprocs > 1:\n",
    "        cmd = 'mpirun -np $NSLOTS python'\n",
    "        script+='{6} {5} -n {0} -s {1} -i {2} -t {3} -w {4}'.format(n, s, i, T, wd, py_file, cmd)\n",
    "\n",
    "    else:\n",
    "        script+='python {5} -n {0} -s {1} -i {2} -t {3} -w {4}'.format(n, s, i, T, wd, py_file)\n",
    "\n",
    "    with open('{0}/qscript'.format(wd), 'w') as f:\n",
    "        f.write(script)\n",
    "\n",
    "def run_job(wd):\n",
    "    '''\n",
    "    Submit job to the queue\n",
    "    '''\n",
    "    import os\n",
    "    from subprocess import Popen, PIPE\n",
    "    cwd = os.getcwd()\n",
    "    os.chdir(wd)\n",
    "    p = Popen(['qsub', 'qscript'], stdout=PIPE, stderr=PIPE)\n",
    "    out, err = p.communicate()\n",
    "    \n",
    "    if out == '' or err !='':\n",
    "        raise Exception('something went wrong in qsub:\\n\\n{0}'.format(err))\n",
    "    jobid = out.split()[2]\n",
    "    f = open('jobid', 'w')\n",
    "  \n",
    "    f.write(jobid)\n",
    "    f.close()\n",
    "    os.chdir(cwd)\n",
    "    return out.strip()    "
   ]
  },
  {
   "cell_type": "code",
   "execution_count": 20,
   "metadata": {},
   "outputs": [
    {
     "data": {
      "image/png": "[encoded data removed]",
      "text/plain": [
       "<matplotlib.figure.Figure at 0x106ffc0d0>"
      ]
     },
     "metadata": {},
     "output_type": "display_data"
    }
   ],
   "source": [
    "import matplotlib.pyplot as plt\n",
    "\n",
    "temperatures = [0.5, 2.0, 5.0]\n",
    "\n",
    "for T in temperatures:\n",
    "\n",
    "    lattice, energies, spins = ising(n=20, nsteps = 50000, T=T)\n",
    "    spins = np.array(spins) / 20. ** 2\n",
    "    plt.plot(range(len(spins)), spins, label = 'T = {0}'.format(T))\n",
    "plt.legend(loc = 'best')\n",
    "plt.xlabel('nSteps')\n",
    "plt.ylabel('Average Spin')\n",
    "plt.ylim(-1.2, 1.2)\n",
    "plt.savefig('/Users/namshik/Documents/py/average-spin.png')\n",
    "plt.show()"
   ]
  },
  {
   "cell_type": "code",
   "execution_count": 23,
   "metadata": {
    "collapsed": true
   },
   "outputs": [],
   "source": [
    "lattice, energies, spins = ising(n=20, nsteps = 50000, T=2.0)"
   ]
  },
  {
   "cell_type": "code",
   "execution_count": 24,
   "metadata": {},
   "outputs": [
    {
     "data": {
      "text/plain": [
       "<matplotlib.collections.PolyCollection at 0x109181710>"
      ]
     },
     "execution_count": 24,
     "metadata": {},
     "output_type": "execute_result"
    },
    {
     "data": {
      "image/png": "[encoded data removed]",
      "text/plain": [
       "<matplotlib.figure.Figure at 0x108b642d0>"
      ]
     },
     "metadata": {},
     "output_type": "display_data"
    }
   ],
   "source": [
    "plt.pcolor(lattice)"
   ]
  },
  {
   "cell_type": "code",
   "execution_count": null,
   "metadata": {
    "collapsed": true
   },
   "outputs": [],
   "source": []
  }
 ],
 "metadata": {
  "kernelspec": {
   "display_name": "Python 2",
   "language": "python",
   "name": "python2"
  },
  "language_info": {
   "codemirror_mode": {
    "name": "ipython",
    "version": 2
   },
   "file_extension": ".py",
   "mimetype": "text/x-python",
   "name": "python",
   "nbconvert_exporter": "python",
   "pygments_lexer": "ipython2",
   "version": "2.7.10"
  }
 },
 "nbformat": 4,
 "nbformat_minor": 2
}
