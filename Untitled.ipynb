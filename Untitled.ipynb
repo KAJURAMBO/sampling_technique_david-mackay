{
 "cells": [
  {
   "cell_type": "code",
   "execution_count": 1,
   "metadata": {},
   "outputs": [
    {
     "name": "stdout",
     "output_type": "stream",
     "text": [
      "in /Users/namshik/.jupyter/jupyter_notebook_config.json\n",
      "- migrating keys from server_extensions to nbserver_extensions\n",
      "-   moving extension ipyparallel.nbextension\n",
      "- removing key NotebookApp.server_extensions\n",
      "\n"
     ]
    }
   ],
   "source": [
    "from jupyter_core.paths import jupyter_config_path\n",
    "from traitlets.config.manager import BaseJSONConfigManager\n",
    "\n",
    "config_basename, section_name = 'jupyter_notebook_config', 'NotebookApp'\n",
    "old_key, new_key = 'server_extensions', 'nbserver_extensions'\n",
    "for config_dir in jupyter_config_path():\n",
    "    cm = BaseJSONConfigManager(config_dir=config_dir)\n",
    "    config = cm.get(config_basename)\n",
    "    section = config.get(section_name, {})\n",
    "    if old_key not in section:\n",
    "        continue\n",
    "    print('in {}'.format(cm.file_name(config_basename)))\n",
    "    print('- migrating keys from {} to {}'.format(old_key, new_key))\n",
    "    for servext in section[old_key]:\n",
    "        print('-   moving extension {}'.format(servext))\n",
    "        section.setdefault(new_key, {})[servext] = True\n",
    "    print('- removing key {}.{}'.format(section_name, old_key))\n",
    "    section[old_key] = None\n",
    "    print('')\n",
    "    cm.update(config_basename, config)"
   ]
  },
  {
   "cell_type": "code",
   "execution_count": null,
   "metadata": {
    "collapsed": true
   },
   "outputs": [],
   "source": [
    "def sigmoid(x):\n",
    "    "
   ]
  }
 ],
 "metadata": {
  "kernelspec": {
   "display_name": "Python 2",
   "language": "python",
   "name": "python2"
  },
  "language_info": {
   "codemirror_mode": {
    "name": "ipython",
    "version": 2
   },
   "file_extension": ".py",
   "mimetype": "text/x-python",
   "name": "python",
   "nbconvert_exporter": "python",
   "pygments_lexer": "ipython2",
   "version": "2.7.13"
  }
 },
 "nbformat": 4,
 "nbformat_minor": 2
}
